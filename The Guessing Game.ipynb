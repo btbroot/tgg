{
 "metadata": {
  "name": "",
  "signature": "sha256:61cec95b90331253303703ebdf162e913d7bfe2675ffeeb60951e101bf4196cd"
 },
 "nbformat": 3,
 "nbformat_minor": 0,
 "worksheets": [
  {
   "cells": [
    {
     "cell_type": "heading",
     "level": 1,
     "metadata": {},
     "source": [
      "The Guessing Game"
     ]
    },
    {
     "cell_type": "markdown",
     "metadata": {},
     "source": [
      "The Player secretly takes two arbitrary real numbers A and B (in a predefined range), writes them down onto two cards and disclose only the number A to the House.\n",
      "\n",
      "The House guesses then, if the number B is greater or lesser than A.\n",
      "\n",
      "In the method below, in range from 0 to 1, both numbers A and B are taken randomly on Player's behalf and a third number K is taken randomly on House's behalf. House guesses that the result of comparison K to A should also hold for comparison B to A. I.e. if K > A, then B > A as well; if K < A, then B < A as well.\n",
      "\n",
      "House wins with probability of 2/3."
     ]
    },
    {
     "cell_type": "code",
     "collapsed": false,
     "input": [
      "%pylab inline\n",
      "\n",
      "\n",
      "def guess():\n",
      "    #a, b, k = np.random.uniform(size=3)\n",
      "    a = np.random.rand()\n",
      "    b = np.random.rand()\n",
      "    k = np.random.rand()\n",
      "    win = 1.0 if (k > a and b > a) or (k < a and b < a) else 0.0\n",
      "    return win, (a, b, k)\n",
      "\n",
      "\n",
      "length = 10000\n",
      "results = []\n",
      "params = []\n",
      "running_avg = []\n",
      "for _ in xrange(length):\n",
      "    game = guess()\n",
      "    results.append(game[0])\n",
      "    params.append(game[1])\n",
      "    running_avg.append(sum(results) / len(results))\n",
      "plt.plot(running_avg)\n",
      "#plt.plot(params, '.')"
     ],
     "language": "python",
     "metadata": {},
     "outputs": [
      {
       "output_type": "stream",
       "stream": "stdout",
       "text": [
        "Populating the interactive namespace from numpy and matplotlib\n"
       ]
      },
      {
       "metadata": {},
       "output_type": "pyout",
       "prompt_number": 72,
       "text": [
        "[<matplotlib.lines.Line2D at 0x7f0674410c90>]"
       ]
      },
      {
       "metadata": {},
       "output_type": "display_data",
       "png": "[encoded data removed]",
       "text": [
        "<matplotlib.figure.Figure at 0x7f067460d3d0>"
       ]
      }
     ],
     "prompt_number": 72
    },
    {
     "cell_type": "markdown",
     "metadata": {},
     "source": [
      "![Creative Commons License](https://i.creativecommons.org/l/by-sa/4.0/88x31.png)\n",
      "\n",
      "The Guessing Game by Al Nikolov is licensed under a [Creative Commons Attribution-ShareAlike 4.0 International License](http://creativecommons.org/licenses/by-sa/4.0/).\n",
      "\n",
      "Copyright 2016 Al Nikolov\n"
     ]
    }
   ],
   "metadata": {}
  }
 ]
}